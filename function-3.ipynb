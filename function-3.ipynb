{
 "cells": [
  {
   "cell_type": "code",
   "execution_count": 1,
   "outputs": [
    {
     "name": "stdout",
     "output_type": "stream",
     "text": [
      "[[1.71525207e-01 3.43916870e-01 2.48737201e-01]\n",
      " [2.42114461e-01 6.44074270e-01 2.72432809e-01]\n",
      " [5.34905720e-01 3.98500915e-01 1.73388729e-01]\n",
      " [4.92581415e-01 6.11593188e-01 3.40176386e-01]\n",
      " [1.34621666e-01 2.19917240e-01 4.58206220e-01]\n",
      " [3.45523271e-01 9.41359831e-01 2.69363479e-01]\n",
      " [1.51836632e-01 4.39990619e-01 9.90881867e-01]\n",
      " [6.45502835e-01 3.97142940e-01 9.19771338e-01]\n",
      " [7.46911945e-01 2.84196309e-01 2.26299855e-01]\n",
      " [1.70476994e-01 6.97032401e-01 1.49169434e-01]\n",
      " [2.20549337e-01 2.97825244e-01 3.43555344e-01]\n",
      " [6.66013659e-01 6.71985151e-01 2.46295297e-01]\n",
      " [4.68089497e-02 2.31360241e-01 7.70617592e-01]\n",
      " [6.00097282e-01 7.25135725e-01 6.60886415e-02]\n",
      " [9.65994849e-01 8.61119690e-01 5.66829131e-01]\n",
      " [9.99999000e-01 5.00000000e-01 7.97978000e-01]\n",
      " [9.59595000e-01 5.00000000e-02 4.24242000e-01]\n",
      " [2.42424000e-01 5.00000000e-02 9.00000000e-06]\n",
      " [9.59500000e-03 9.69696000e-01 8.58585000e-01]\n",
      " [9.70202000e-01 4.04040000e-02 5.15151000e-01]\n",
      " [9.50000000e-01 1.00000000e-06 6.26262000e-01]]\n",
      "[-0.1121222  -0.08796286 -0.11141465 -0.03483531 -0.04800758 -0.11062091\n",
      " -0.39892551 -0.11386851 -0.13146061 -0.09418956 -0.04694741 -0.10596504\n",
      " -0.11804826 -0.03637783 -0.05675837 -0.06711013 -0.09261012 -0.18721651\n",
      " -0.05750402 -0.08654358 -0.1542196 ]\n"
     ]
    }
   ],
   "source": [
    "import numpy as np\n",
    "import matplotlib.pyplot as plt\n",
    "from sklearn.gaussian_process import GaussianProcessRegressor\n",
    "from sklearn.gaussian_process.kernels import RBF, WhiteKernel\n",
    "\n",
    "\n",
    "X_train = np.load('initial_data/function_3/initial_inputs.npy')\n",
    "Y_train = np.load('initial_data/function_3/initial_outputs.npy')\n",
    "\n",
    "X_train = np.append(X_train, [[0.999999, 0.5,0.797978],[0.959595,0.05,0.424242],[2.42424e-01,5.00000e-02,9.00000e-06],\n",
    "                              [0.009595,0.969696,0.858585],\n",
    "                              [0.970202,0.040404,0.515151],\n",
    "                              [9.50000e-01,1.00000e-06,6.26262e-01]], axis=0)\n",
    "Y_train = np.append(Y_train, [-0.0671101326201069,-0.092610115292593,-0.1872165089655,-0.0575040158619428,-0.0865435771267751,-0.154219595742106])\n",
    "\n",
    "print(X_train)\n",
    "print(Y_train)"
   ],
   "metadata": {
    "collapsed": false,
    "ExecuteTime": {
     "end_time": "2024-07-22T18:49:02.683077700Z",
     "start_time": "2024-07-22T18:49:01.248111600Z"
    }
   }
  },
  {
   "cell_type": "code",
   "execution_count": 2,
   "outputs": [
    {
     "data": {
      "text/plain": "GaussianProcessRegressor(alpha=0.01,\n                         kernel=RBF(length_scale=[1, 1, 1]) + WhiteKernel(noise_level=0.1),\n                         normalize_y=True)",
      "text/html": "<style>#sk-container-id-1 {\n  /* Definition of color scheme common for light and dark mode */\n  --sklearn-color-text: black;\n  --sklearn-color-line: gray;\n  /* Definition of color scheme for unfitted estimators */\n  --sklearn-color-unfitted-level-0: #fff5e6;\n  --sklearn-color-unfitted-level-1: #f6e4d2;\n  --sklearn-color-unfitted-level-2: #ffe0b3;\n  --sklearn-color-unfitted-level-3: chocolate;\n  /* Definition of color scheme for fitted estimators */\n  --sklearn-color-fitted-level-0: #f0f8ff;\n  --sklearn-color-fitted-level-1: #d4ebff;\n  --sklearn-color-fitted-level-2: #b3dbfd;\n  --sklearn-color-fitted-level-3: cornflowerblue;\n\n  /* Specific color for light theme */\n  --sklearn-color-text-on-default-background: var(--sg-text-color, var(--theme-code-foreground, var(--jp-content-font-color1, black)));\n  --sklearn-color-background: var(--sg-background-color, var(--theme-background, var(--jp-layout-color0, white)));\n  --sklearn-color-border-box: var(--sg-text-color, var(--theme-code-foreground, var(--jp-content-font-color1, black)));\n  --sklearn-color-icon: #696969;\n\n  @media (prefers-color-scheme: dark) {\n    /* Redefinition of color scheme for dark theme */\n    --sklearn-color-text-on-default-background: var(--sg-text-color, var(--theme-code-foreground, var(--jp-content-font-color1, white)));\n    --sklearn-color-background: var(--sg-background-color, var(--theme-background, var(--jp-layout-color0, #111)));\n    --sklearn-color-border-box: var(--sg-text-color, var(--theme-code-foreground, var(--jp-content-font-color1, white)));\n    --sklearn-color-icon: #878787;\n  }\n}\n\n#sk-container-id-1 {\n  color: var(--sklearn-color-text);\n}\n\n#sk-container-id-1 pre {\n  padding: 0;\n}\n\n#sk-container-id-1 input.sk-hidden--visually {\n  border: 0;\n  clip: rect(1px 1px 1px 1px);\n  clip: rect(1px, 1px, 1px, 1px);\n  height: 1px;\n  margin: -1px;\n  overflow: hidden;\n  padding: 0;\n  position: absolute;\n  width: 1px;\n}\n\n#sk-container-id-1 div.sk-dashed-wrapped {\n  border: 1px dashed var(--sklearn-color-line);\n  margin: 0 0.4em 0.5em 0.4em;\n  box-sizing: border-box;\n  padding-bottom: 0.4em;\n  background-color: var(--sklearn-color-background);\n}\n\n#sk-container-id-1 div.sk-container {\n  /* jupyter's `normalize.less` sets `[hidden] { display: none; }`\n     but bootstrap.min.css set `[hidden] { display: none !important; }`\n     so we also need the `!important` here to be able to override the\n     default hidden behavior on the sphinx rendered scikit-learn.org.\n     See: https://github.com/scikit-learn/scikit-learn/issues/21755 */\n  display: inline-block !important;\n  position: relative;\n}\n\n#sk-container-id-1 div.sk-text-repr-fallback {\n  display: none;\n}\n\ndiv.sk-parallel-item,\ndiv.sk-serial,\ndiv.sk-item {\n  /* draw centered vertical line to link estimators */\n  background-image: linear-gradient(var(--sklearn-color-text-on-default-background), var(--sklearn-color-text-on-default-background));\n  background-size: 2px 100%;\n  background-repeat: no-repeat;\n  background-position: center center;\n}\n\n/* Parallel-specific style estimator block */\n\n#sk-container-id-1 div.sk-parallel-item::after {\n  content: \"\";\n  width: 100%;\n  border-bottom: 2px solid var(--sklearn-color-text-on-default-background);\n  flex-grow: 1;\n}\n\n#sk-container-id-1 div.sk-parallel {\n  display: flex;\n  align-items: stretch;\n  justify-content: center;\n  background-color: var(--sklearn-color-background);\n  position: relative;\n}\n\n#sk-container-id-1 div.sk-parallel-item {\n  display: flex;\n  flex-direction: column;\n}\n\n#sk-container-id-1 div.sk-parallel-item:first-child::after {\n  align-self: flex-end;\n  width: 50%;\n}\n\n#sk-container-id-1 div.sk-parallel-item:last-child::after {\n  align-self: flex-start;\n  width: 50%;\n}\n\n#sk-container-id-1 div.sk-parallel-item:only-child::after {\n  width: 0;\n}\n\n/* Serial-specific style estimator block */\n\n#sk-container-id-1 div.sk-serial {\n  display: flex;\n  flex-direction: column;\n  align-items: center;\n  background-color: var(--sklearn-color-background);\n  padding-right: 1em;\n  padding-left: 1em;\n}\n\n\n/* Toggleable style: style used for estimator/Pipeline/ColumnTransformer box that is\nclickable and can be expanded/collapsed.\n- Pipeline and ColumnTransformer use this feature and define the default style\n- Estimators will overwrite some part of the style using the `sk-estimator` class\n*/\n\n/* Pipeline and ColumnTransformer style (default) */\n\n#sk-container-id-1 div.sk-toggleable {\n  /* Default theme specific background. It is overwritten whether we have a\n  specific estimator or a Pipeline/ColumnTransformer */\n  background-color: var(--sklearn-color-background);\n}\n\n/* Toggleable label */\n#sk-container-id-1 label.sk-toggleable__label {\n  cursor: pointer;\n  display: block;\n  width: 100%;\n  margin-bottom: 0;\n  padding: 0.5em;\n  box-sizing: border-box;\n  text-align: center;\n}\n\n#sk-container-id-1 label.sk-toggleable__label-arrow:before {\n  /* Arrow on the left of the label */\n  content: \"▸\";\n  float: left;\n  margin-right: 0.25em;\n  color: var(--sklearn-color-icon);\n}\n\n#sk-container-id-1 label.sk-toggleable__label-arrow:hover:before {\n  color: var(--sklearn-color-text);\n}\n\n/* Toggleable content - dropdown */\n\n#sk-container-id-1 div.sk-toggleable__content {\n  max-height: 0;\n  max-width: 0;\n  overflow: hidden;\n  text-align: left;\n  /* unfitted */\n  background-color: var(--sklearn-color-unfitted-level-0);\n}\n\n#sk-container-id-1 div.sk-toggleable__content.fitted {\n  /* fitted */\n  background-color: var(--sklearn-color-fitted-level-0);\n}\n\n#sk-container-id-1 div.sk-toggleable__content pre {\n  margin: 0.2em;\n  border-radius: 0.25em;\n  color: var(--sklearn-color-text);\n  /* unfitted */\n  background-color: var(--sklearn-color-unfitted-level-0);\n}\n\n#sk-container-id-1 div.sk-toggleable__content.fitted pre {\n  /* unfitted */\n  background-color: var(--sklearn-color-fitted-level-0);\n}\n\n#sk-container-id-1 input.sk-toggleable__control:checked~div.sk-toggleable__content {\n  /* Expand drop-down */\n  max-height: 200px;\n  max-width: 100%;\n  overflow: auto;\n}\n\n#sk-container-id-1 input.sk-toggleable__control:checked~label.sk-toggleable__label-arrow:before {\n  content: \"▾\";\n}\n\n/* Pipeline/ColumnTransformer-specific style */\n\n#sk-container-id-1 div.sk-label input.sk-toggleable__control:checked~label.sk-toggleable__label {\n  color: var(--sklearn-color-text);\n  background-color: var(--sklearn-color-unfitted-level-2);\n}\n\n#sk-container-id-1 div.sk-label.fitted input.sk-toggleable__control:checked~label.sk-toggleable__label {\n  background-color: var(--sklearn-color-fitted-level-2);\n}\n\n/* Estimator-specific style */\n\n/* Colorize estimator box */\n#sk-container-id-1 div.sk-estimator input.sk-toggleable__control:checked~label.sk-toggleable__label {\n  /* unfitted */\n  background-color: var(--sklearn-color-unfitted-level-2);\n}\n\n#sk-container-id-1 div.sk-estimator.fitted input.sk-toggleable__control:checked~label.sk-toggleable__label {\n  /* fitted */\n  background-color: var(--sklearn-color-fitted-level-2);\n}\n\n#sk-container-id-1 div.sk-label label.sk-toggleable__label,\n#sk-container-id-1 div.sk-label label {\n  /* The background is the default theme color */\n  color: var(--sklearn-color-text-on-default-background);\n}\n\n/* On hover, darken the color of the background */\n#sk-container-id-1 div.sk-label:hover label.sk-toggleable__label {\n  color: var(--sklearn-color-text);\n  background-color: var(--sklearn-color-unfitted-level-2);\n}\n\n/* Label box, darken color on hover, fitted */\n#sk-container-id-1 div.sk-label.fitted:hover label.sk-toggleable__label.fitted {\n  color: var(--sklearn-color-text);\n  background-color: var(--sklearn-color-fitted-level-2);\n}\n\n/* Estimator label */\n\n#sk-container-id-1 div.sk-label label {\n  font-family: monospace;\n  font-weight: bold;\n  display: inline-block;\n  line-height: 1.2em;\n}\n\n#sk-container-id-1 div.sk-label-container {\n  text-align: center;\n}\n\n/* Estimator-specific */\n#sk-container-id-1 div.sk-estimator {\n  font-family: monospace;\n  border: 1px dotted var(--sklearn-color-border-box);\n  border-radius: 0.25em;\n  box-sizing: border-box;\n  margin-bottom: 0.5em;\n  /* unfitted */\n  background-color: var(--sklearn-color-unfitted-level-0);\n}\n\n#sk-container-id-1 div.sk-estimator.fitted {\n  /* fitted */\n  background-color: var(--sklearn-color-fitted-level-0);\n}\n\n/* on hover */\n#sk-container-id-1 div.sk-estimator:hover {\n  /* unfitted */\n  background-color: var(--sklearn-color-unfitted-level-2);\n}\n\n#sk-container-id-1 div.sk-estimator.fitted:hover {\n  /* fitted */\n  background-color: var(--sklearn-color-fitted-level-2);\n}\n\n/* Specification for estimator info (e.g. \"i\" and \"?\") */\n\n/* Common style for \"i\" and \"?\" */\n\n.sk-estimator-doc-link,\na:link.sk-estimator-doc-link,\na:visited.sk-estimator-doc-link {\n  float: right;\n  font-size: smaller;\n  line-height: 1em;\n  font-family: monospace;\n  background-color: var(--sklearn-color-background);\n  border-radius: 1em;\n  height: 1em;\n  width: 1em;\n  text-decoration: none !important;\n  margin-left: 1ex;\n  /* unfitted */\n  border: var(--sklearn-color-unfitted-level-1) 1pt solid;\n  color: var(--sklearn-color-unfitted-level-1);\n}\n\n.sk-estimator-doc-link.fitted,\na:link.sk-estimator-doc-link.fitted,\na:visited.sk-estimator-doc-link.fitted {\n  /* fitted */\n  border: var(--sklearn-color-fitted-level-1) 1pt solid;\n  color: var(--sklearn-color-fitted-level-1);\n}\n\n/* On hover */\ndiv.sk-estimator:hover .sk-estimator-doc-link:hover,\n.sk-estimator-doc-link:hover,\ndiv.sk-label-container:hover .sk-estimator-doc-link:hover,\n.sk-estimator-doc-link:hover {\n  /* unfitted */\n  background-color: var(--sklearn-color-unfitted-level-3);\n  color: var(--sklearn-color-background);\n  text-decoration: none;\n}\n\ndiv.sk-estimator.fitted:hover .sk-estimator-doc-link.fitted:hover,\n.sk-estimator-doc-link.fitted:hover,\ndiv.sk-label-container:hover .sk-estimator-doc-link.fitted:hover,\n.sk-estimator-doc-link.fitted:hover {\n  /* fitted */\n  background-color: var(--sklearn-color-fitted-level-3);\n  color: var(--sklearn-color-background);\n  text-decoration: none;\n}\n\n/* Span, style for the box shown on hovering the info icon */\n.sk-estimator-doc-link span {\n  display: none;\n  z-index: 9999;\n  position: relative;\n  font-weight: normal;\n  right: .2ex;\n  padding: .5ex;\n  margin: .5ex;\n  width: min-content;\n  min-width: 20ex;\n  max-width: 50ex;\n  color: var(--sklearn-color-text);\n  box-shadow: 2pt 2pt 4pt #999;\n  /* unfitted */\n  background: var(--sklearn-color-unfitted-level-0);\n  border: .5pt solid var(--sklearn-color-unfitted-level-3);\n}\n\n.sk-estimator-doc-link.fitted span {\n  /* fitted */\n  background: var(--sklearn-color-fitted-level-0);\n  border: var(--sklearn-color-fitted-level-3);\n}\n\n.sk-estimator-doc-link:hover span {\n  display: block;\n}\n\n/* \"?\"-specific style due to the `<a>` HTML tag */\n\n#sk-container-id-1 a.estimator_doc_link {\n  float: right;\n  font-size: 1rem;\n  line-height: 1em;\n  font-family: monospace;\n  background-color: var(--sklearn-color-background);\n  border-radius: 1rem;\n  height: 1rem;\n  width: 1rem;\n  text-decoration: none;\n  /* unfitted */\n  color: var(--sklearn-color-unfitted-level-1);\n  border: var(--sklearn-color-unfitted-level-1) 1pt solid;\n}\n\n#sk-container-id-1 a.estimator_doc_link.fitted {\n  /* fitted */\n  border: var(--sklearn-color-fitted-level-1) 1pt solid;\n  color: var(--sklearn-color-fitted-level-1);\n}\n\n/* On hover */\n#sk-container-id-1 a.estimator_doc_link:hover {\n  /* unfitted */\n  background-color: var(--sklearn-color-unfitted-level-3);\n  color: var(--sklearn-color-background);\n  text-decoration: none;\n}\n\n#sk-container-id-1 a.estimator_doc_link.fitted:hover {\n  /* fitted */\n  background-color: var(--sklearn-color-fitted-level-3);\n}\n</style><div id=\"sk-container-id-1\" class=\"sk-top-container\"><div class=\"sk-text-repr-fallback\"><pre>GaussianProcessRegressor(alpha=0.01,\n                         kernel=RBF(length_scale=[1, 1, 1]) + WhiteKernel(noise_level=0.1),\n                         normalize_y=True)</pre><b>In a Jupyter environment, please rerun this cell to show the HTML representation or trust the notebook. <br />On GitHub, the HTML representation is unable to render, please try loading this page with nbviewer.org.</b></div><div class=\"sk-container\" hidden><div class=\"sk-item\"><div class=\"sk-estimator fitted sk-toggleable\"><input class=\"sk-toggleable__control sk-hidden--visually\" id=\"sk-estimator-id-1\" type=\"checkbox\" checked><label for=\"sk-estimator-id-1\" class=\"sk-toggleable__label fitted sk-toggleable__label-arrow fitted\">&nbsp;&nbsp;GaussianProcessRegressor<a class=\"sk-estimator-doc-link fitted\" rel=\"noreferrer\" target=\"_blank\" href=\"https://scikit-learn.org/1.4/modules/generated/sklearn.gaussian_process.GaussianProcessRegressor.html\">?<span>Documentation for GaussianProcessRegressor</span></a><span class=\"sk-estimator-doc-link fitted\">i<span>Fitted</span></span></label><div class=\"sk-toggleable__content fitted\"><pre>GaussianProcessRegressor(alpha=0.01,\n                         kernel=RBF(length_scale=[1, 1, 1]) + WhiteKernel(noise_level=0.1),\n                         normalize_y=True)</pre></div> </div></div></div></div>"
     },
     "execution_count": 2,
     "metadata": {},
     "output_type": "execute_result"
    }
   ],
   "source": [
    "# Define the Gaussian Process\n",
    "kernel = RBF(length_scale=[1.0, 1.0, 1.0]) + WhiteKernel(noise_level=0.1)\n",
    "gp = GaussianProcessRegressor(kernel=kernel, alpha=0.01, normalize_y=True)\n",
    "gp.fit(X_train, Y_train)"
   ],
   "metadata": {
    "collapsed": false,
    "ExecuteTime": {
     "end_time": "2024-07-22T18:49:02.785075500Z",
     "start_time": "2024-07-22T18:49:02.671076500Z"
    }
   }
  },
  {
   "cell_type": "code",
   "execution_count": 3,
   "outputs": [],
   "source": [
    "def ucb(X, gp, kappa=1.96):  # kappa can be adjusted based on your confidence level needs\n",
    "    mean, std = gp.predict(X, return_std=True)\n",
    "    return mean + kappa * std\n",
    "\n",
    "# Define the range to test for each compound\n",
    "test_range = np.linspace(0, 1, 100)\n",
    "xx, yy, zz = np.meshgrid(test_range, test_range, test_range)\n",
    "all_combinations = np.vstack([xx.ravel(), yy.ravel(), zz.ravel()]).T\n",
    "\n",
    "# Calculate UCB for all combinations\n",
    "UCB_values = ucb(all_combinations, gp)"
   ],
   "metadata": {
    "collapsed": false,
    "ExecuteTime": {
     "end_time": "2024-07-22T18:49:03.401094Z",
     "start_time": "2024-07-22T18:49:02.720076600Z"
    }
   }
  },
  {
   "cell_type": "code",
   "execution_count": 4,
   "outputs": [
    {
     "data": {
      "text/plain": "<Figure size 1500x500 with 3 Axes>",
      "image/png": "[encoded data removed]"
     },
     "metadata": {},
     "output_type": "display_data"
    },
    {
     "name": "stdout",
     "output_type": "stream",
     "text": [
      "Estimated effective UCB ranges for each compound (5th to 95th percentile): [array([0.05, 0.95]), array([0., 0.]), array([0.09090909, 0.09090909])]\n"
     ]
    }
   ],
   "source": [
    "# Find indices where UCB is maximized\n",
    "max_ucb_idx = np.argsort(-UCB_values)[:100]  # Top 100 indices with maximum UCB\n",
    "optimal_ranges_ucb = all_combinations[max_ucb_idx]\n",
    "\n",
    "import matplotlib.pyplot as plt\n",
    "\n",
    "# Plot histograms to determine the common UCB ranges for each compound\n",
    "fig, axes = plt.subplots(1, 3, figsize=(15, 5))\n",
    "colors = ['red', 'green', 'blue']\n",
    "for i in range(3):\n",
    "    axes[i].hist(optimal_ranges_ucb[:, i], bins=20, color=colors[i], alpha=0.7)\n",
    "    axes[i].set_title(f'Compound {i+1} UCB Range')\n",
    "\n",
    "plt.tight_layout()\n",
    "plt.show()\n",
    "\n",
    "# Calculate range estimates for submission based on UCB\n",
    "compound_ucb_range_estimates = [np.percentile(optimal_ranges_ucb[:, i], [5, 95]) for i in range(3)]\n",
    "print(\"Estimated effective UCB ranges for each compound (5th to 95th percentile):\", compound_ucb_range_estimates)\n"
   ],
   "metadata": {
    "collapsed": false,
    "ExecuteTime": {
     "end_time": "2024-07-22T18:49:04.069206200Z",
     "start_time": "2024-07-22T18:49:03.405097900Z"
    }
   }
  },
  {
   "cell_type": "code",
   "execution_count": 8,
   "outputs": [
    {
     "name": "stdout",
     "output_type": "stream",
     "text": [
      "Optimal range for further exploration based on UCB (original scale): [9.99999000e-01 1.00000000e-06 9.46149521e-02]\n"
     ]
    },
    {
     "data": {
      "text/plain": "<Figure size 1500x500 with 3 Axes>",
      "image/png": "[encoded data removed]"
     },
     "metadata": {},
     "output_type": "display_data"
    },
    {
     "name": "stdout",
     "output_type": "stream",
     "text": [
      "Estimated effective UCB ranges for each compound (5th to 95th percentile): [array([0.999999, 0.999999]), array([1.e-06, 1.e-06]), array([0.09461495, 0.09461495])]\n"
     ]
    }
   ],
   "source": [
    "import numpy as np\n",
    "import matplotlib.pyplot as plt\n",
    "from sklearn.gaussian_process import GaussianProcessRegressor\n",
    "from sklearn.gaussian_process.kernels import RBF, WhiteKernel\n",
    "from sklearn.preprocessing import MinMaxScaler\n",
    "\n",
    "# Load the initial data\n",
    "X_train = np.load('initial_data/function_3/initial_inputs.npy')\n",
    "Y_train = np.load('initial_data/function_3/initial_outputs.npy')\n",
    "\n",
    "# Append additional data points\n",
    "X_train = np.append(X_train, [[0.999999, 0.5, 0.797978], [0.959595, 0.05, 0.424242], [0.242424, 0.05, 0.000009],\n",
    "                              [0.009595, 0.969696, 0.858585], [0.970202, 0.040404, 0.515151], [0.95, 0.000001, 0.626262]], axis=0)\n",
    "Y_train = np.append(Y_train, [-0.0671101326201069, -0.092610115292593, -0.1872165089655, -0.0575040158619428, -0.0865435771267751, -0.154219595742106])\n",
    "\n",
    "# Normalize the input data\n",
    "scaler = MinMaxScaler()\n",
    "X_train_normalized = scaler.fit_transform(X_train)\n",
    "\n",
    "# Define the Gaussian Process model\n",
    "kernel = RBF(length_scale=[1.0, 1.0, 1.0]) + WhiteKernel(noise_level=0.1)\n",
    "gp = GaussianProcessRegressor(kernel=kernel, alpha=0.01, normalize_y=True)\n",
    "gp.fit(X_train_normalized, Y_train)\n",
    "\n",
    "def ucb(X, gp, kappa=1.96):\n",
    "    mean, std = gp.predict(X, return_std=True)\n",
    "    return mean + kappa * std\n",
    "\n",
    "# Define the range to test for each compound with increased resolution\n",
    "test_range = np.linspace(0, 1, 200)\n",
    "xx, yy, zz = np.meshgrid(test_range, test_range, test_range)\n",
    "all_combinations = np.vstack([xx.ravel(), yy.ravel(), zz.ravel()]).T\n",
    "\n",
    "# Calculate UCB for all combinations\n",
    "UCB_values = ucb(all_combinations, gp)\n",
    "\n",
    "# Find the index where UCB is maximized\n",
    "max_ucb_idx = np.argmax(UCB_values)  # Index with maximum UCB\n",
    "optimal_range_ucb = all_combinations[max_ucb_idx]\n",
    "\n",
    "# Transform the optimal range back to the original scale\n",
    "optimal_range_ucb_original = scaler.inverse_transform([optimal_range_ucb])\n",
    "print(\"Optimal range for further exploration based on UCB (original scale):\", optimal_range_ucb_original[0])\n",
    "\n",
    "# Plot histograms to determine the common UCB ranges for each compound\n",
    "fig, axes = plt.subplots(1, 3, figsize=(15, 5))\n",
    "colors = ['red', 'green', 'blue']\n",
    "for i in range(3):\n",
    "    axes[i].hist(all_combinations[max_ucb_idx][i], bins=20, color=colors[i], alpha=0.7)\n",
    "    axes[i].set_title(f'Compound {i+1} UCB Range')\n",
    "\n",
    "plt.tight_layout()\n",
    "plt.show()\n",
    "\n",
    "# Calculate range estimates for submission based on UCB\n",
    "compound_ucb_range_estimates = [np.percentile(optimal_range_ucb_original[:, i], [5, 95]) for i in range(3)]\n",
    "print(\"Estimated effective UCB ranges for each compound (5th to 95th percentile):\", compound_ucb_range_estimates)\n"
   ],
   "metadata": {
    "collapsed": false,
    "ExecuteTime": {
     "end_time": "2024-07-22T18:55:41.110285Z",
     "start_time": "2024-07-22T18:55:34.922633800Z"
    }
   }
  },
  {
   "cell_type": "code",
   "execution_count": 9,
   "outputs": [
    {
     "name": "stdout",
     "output_type": "stream",
     "text": [
      "Optimal range for further exploration based on UCB (original scale): [0.77106139 0.90147625 0.07967717]\n",
      "Estimated effective UCB ranges for each compound (5th to 95th percentile): [array([0.77106139, 0.77106139]), array([0.90147625, 0.90147625]), array([0.07967717, 0.07967717])]\n"
     ]
    }
   ],
   "source": [
    "import numpy as np\n",
    "import matplotlib.pyplot as plt\n",
    "from sklearn.gaussian_process import GaussianProcessRegressor\n",
    "from sklearn.gaussian_process.kernels import RBF, WhiteKernel\n",
    "from sklearn.preprocessing import MinMaxScaler\n",
    "\n",
    "# Load the initial data\n",
    "X_train = np.load('initial_data/function_3/initial_inputs.npy')\n",
    "Y_train = np.load('initial_data/function_3/initial_outputs.npy')\n",
    "\n",
    "# Append additional data points\n",
    "X_train = np.append(X_train, [[0.999999, 0.5, 0.797978], [0.959595, 0.05, 0.424242], [0.242424, 0.05, 0.000009],\n",
    "                              [0.009595, 0.969696, 0.858585], [0.970202, 0.040404, 0.515151], [0.95, 0.000001, 0.626262]], axis=0)\n",
    "Y_train = np.append(Y_train, [-0.0671101326201069, -0.092610115292593, -0.1872165089655, -0.0575040158619428, -0.0865435771267751, -0.154219595742106])\n",
    "\n",
    "# Normalize the input data\n",
    "scaler = MinMaxScaler()\n",
    "X_train_normalized = scaler.fit_transform(X_train)\n",
    "\n",
    "# Define the Gaussian Process model\n",
    "kernel = RBF(length_scale=[1.0, 1.0, 1.0]) + WhiteKernel(noise_level=0.1)\n",
    "gp = GaussianProcessRegressor(kernel=kernel, alpha=0.01, normalize_y=True)\n",
    "gp.fit(X_train_normalized, Y_train)\n",
    "\n",
    "def ucb(X, gp, kappa=0.1):  # Lower kappa for more exploitation\n",
    "    mean, std = gp.predict(X, return_std=True)\n",
    "    return mean + kappa * std\n",
    "\n",
    "# Define the range to test for each compound with increased resolution\n",
    "test_range = np.linspace(0, 1, 200)\n",
    "xx, yy, zz = np.meshgrid(test_range, test_range, test_range)\n",
    "all_combinations = np.vstack([xx.ravel(), yy.ravel(), zz.ravel()]).T\n",
    "\n",
    "# Calculate UCB for all combinations\n",
    "UCB_values = ucb(all_combinations, gp)\n",
    "\n",
    "# Find the index where UCB is maximized\n",
    "max_ucb_idx = np.argmax(UCB_values)  # Index with maximum UCB\n",
    "optimal_range_ucb = all_combinations[max_ucb_idx]\n",
    "\n",
    "# Transform the optimal range back to the original scale\n",
    "optimal_range_ucb_original = scaler.inverse_transform([optimal_range_ucb])\n",
    "print(\"Optimal range for further exploration based on UCB (original scale):\", optimal_range_ucb_original[0])\n",
    "\n",
    "# Calculate range estimates for submission based on UCB\n",
    "compound_ucb_range_estimates = [np.percentile(optimal_range_ucb_original[:, i], [5, 95]) for i in range(3)]\n",
    "print(\"Estimated effective UCB ranges for each compound (5th to 95th percentile):\", compound_ucb_range_estimates)\n"
   ],
   "metadata": {
    "collapsed": false,
    "ExecuteTime": {
     "end_time": "2024-07-22T19:14:47.338451900Z",
     "start_time": "2024-07-22T19:14:40.851270900Z"
    }
   }
  },
  {
   "cell_type": "code",
   "execution_count": 10,
   "outputs": [
    {
     "name": "stdout",
     "output_type": "stream",
     "text": [
      "Optimal range for further exploration based on EI (original scale): [9.99999000e-01 1.00000000e-06 8.96356914e-02]\n",
      "Estimated effective EI ranges for each compound (5th to 95th percentile): [array([0.999999, 0.999999]), array([1.e-06, 1.e-06]), array([0.08963569, 0.08963569])]\n"
     ]
    }
   ],
   "source": [
    "from scipy.stats import norm\n",
    "\n",
    "def expected_improvement(X, gp, xi=0.01):\n",
    "    mean, std = gp.predict(X, return_std=True)\n",
    "    best_Y = np.max(Y_train)\n",
    "    Z = (mean - best_Y - xi) / std\n",
    "    ei = (mean - best_Y - xi) * norm.cdf(Z) + std * norm.pdf(Z)\n",
    "    ei[std == 0.0] = 0.0\n",
    "    return ei\n",
    "\n",
    "# Calculate EI for all combinations\n",
    "EI_values = expected_improvement(all_combinations, gp)\n",
    "\n",
    "# Find the index where EI is maximized\n",
    "max_ei_idx = np.argmax(EI_values)  # Index with maximum EI\n",
    "optimal_range_ei = all_combinations[max_ei_idx]\n",
    "\n",
    "# Transform the optimal range back to the original scale\n",
    "optimal_range_ei_original = scaler.inverse_transform([optimal_range_ei])\n",
    "print(\"Optimal range for further exploration based on EI (original scale):\", optimal_range_ei_original[0])\n",
    "\n",
    "# Calculate range estimates for submission based on EI\n",
    "compound_ei_range_estimates = [np.percentile(optimal_range_ei_original[:, i], [5, 95]) for i in range(3)]\n",
    "print(\"Estimated effective EI ranges for each compound (5th to 95th percentile):\", compound_ei_range_estimates)\n"
   ],
   "metadata": {
    "collapsed": false,
    "ExecuteTime": {
     "end_time": "2024-07-22T19:14:59.911043100Z",
     "start_time": "2024-07-22T19:14:53.543488800Z"
    }
   }
  }
 ],
 "metadata": {
  "interpreter": {
   "hash": "d37abda7630e259e5026a5079657683a09f6e3d11473720762ebe7250c494840"
  },
  "kernelspec": {
   "display_name": "Python 3 (ipykernel)",
   "language": "python",
   "name": "python3"
  },
  "language_info": {
   "codemirror_mode": {
    "name": "ipython",
    "version": 3
   },
   "file_extension": ".py",
   "mimetype": "text/x-python",
   "name": "python",
   "nbconvert_exporter": "python",
   "pygments_lexer": "ipython3",
   "version": "3.8.5"
  }
 },
 "nbformat": 4,
 "nbformat_minor": 2
}
