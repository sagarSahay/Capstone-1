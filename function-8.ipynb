{
 "cells": [
  {
   "cell_type": "code",
   "execution_count": 1,
   "outputs": [
    {
     "name": "stdout",
     "output_type": "stream",
     "text": [
      "[[0.60499445 0.29221502 0.90845275 0.35550624 0.20166872 0.57533801\n",
      "  0.31031095 0.73428138]\n",
      " [0.17800696 0.56622265 0.99486184 0.21032501 0.32015266 0.70790879\n",
      "  0.63538449 0.10713163]\n",
      " [0.00907698 0.81162615 0.52052036 0.07568668 0.26511183 0.09165169\n",
      "  0.59241515 0.36732026]\n",
      " [0.50602816 0.65373012 0.36341078 0.17798105 0.0937283  0.19742533\n",
      "  0.7558269  0.29247234]\n",
      " [0.35990926 0.24907568 0.49599717 0.70921498 0.11498719 0.28920692\n",
      "  0.55729515 0.59388173]\n",
      " [0.77881834 0.0034195  0.33798313 0.51952778 0.82090699 0.53724669\n",
      "  0.5513471  0.66003209]\n",
      " [0.90864932 0.0622497  0.23825955 0.76660355 0.13233596 0.99024381\n",
      "  0.68806782 0.74249594]\n",
      " [0.58637144 0.88073573 0.74502075 0.54603485 0.00964888 0.74899176\n",
      "  0.23090707 0.09791562]\n",
      " [0.76113733 0.85467239 0.38212433 0.33735198 0.68970832 0.30985305\n",
      "  0.63137968 0.04195607]\n",
      " [0.9849332  0.69950626 0.9988855  0.18014846 0.58014315 0.23108719\n",
      "  0.49082694 0.31368272]\n",
      " [0.11207131 0.43773566 0.59659878 0.59277563 0.22698177 0.41010452\n",
      "  0.92123758 0.67475276]\n",
      " [0.79188751 0.57619134 0.69452836 0.28342378 0.13675546 0.27916186\n",
      "  0.84276726 0.62532792]\n",
      " [0.1435503  0.93741452 0.23232482 0.00904349 0.41457893 0.40932517\n",
      "  0.55377852 0.2058408 ]\n",
      " [0.76991655 0.45875909 0.55900044 0.69460444 0.50319902 0.72834638\n",
      "  0.78425353 0.66313109]\n",
      " [0.05644741 0.06595555 0.02292868 0.03878647 0.40393544 0.80105533\n",
      "  0.48830701 0.89308498]\n",
      " [0.86243745 0.48273382 0.2818694  0.54410223 0.88749026 0.38265469\n",
      "  0.60190199 0.47646169]\n",
      " [0.3515119  0.59006494 0.9094363  0.67840835 0.21282566 0.08846038\n",
      "  0.410153   0.19572429]\n",
      " [0.73590364 0.03461189 0.72803027 0.14742652 0.29574314 0.44511731\n",
      "  0.97517969 0.37433978]\n",
      " [0.68029397 0.25510465 0.86218799 0.13439582 0.3263292  0.28790687\n",
      "  0.43501048 0.36420013]\n",
      " [0.04432925 0.01358149 0.25819824 0.57764416 0.05127992 0.15856307\n",
      "  0.59103012 0.07795293]\n",
      " [0.77834548 0.75114565 0.31414221 0.90298577 0.33538166 0.38632267\n",
      "  0.74897249 0.9887551 ]\n",
      " [0.89888711 0.5236417  0.87678325 0.21869645 0.90026089 0.28276624\n",
      "  0.91107791 0.47239822]\n",
      " [0.14512029 0.11932754 0.42088822 0.38760861 0.15542283 0.87517163\n",
      "  0.51055967 0.72861058]\n",
      " [0.33895442 0.56693202 0.3767511  0.09891573 0.65945169 0.24554809\n",
      "  0.76248278 0.73215347]\n",
      " [0.17615002 0.29396143 0.97567997 0.79393631 0.92340076 0.03084229\n",
      "  0.80325452 0.59589758]\n",
      " [0.02894663 0.02827906 0.48137155 0.6131746  0.67266045 0.02211341\n",
      "  0.6014833  0.52488505]\n",
      " [0.19263987 0.63067728 0.41679584 0.49052929 0.79608602 0.65456706\n",
      "  0.27624119 0.29551759]\n",
      " [0.94318502 0.21885062 0.72118408 0.42459707 0.986902   0.53518298\n",
      "  0.71474318 0.96009372]\n",
      " [0.5327214  0.8336926  0.071399   0.11681148 0.73069311 0.93737559\n",
      "  0.86650798 0.127902  ]\n",
      " [0.44709584 0.84395253 0.72954612 0.63915138 0.40928714 0.13264569\n",
      "  0.03590888 0.44683847]\n",
      " [0.38222497 0.55713584 0.85310163 0.33379569 0.26572127 0.48087292\n",
      "  0.23764706 0.76863196]\n",
      " [0.53281953 0.86230848 0.53826712 0.04944293 0.71970119 0.9067059\n",
      "  0.10823094 0.52534791]\n",
      " [0.39486519 0.33180167 0.7407543  0.69786172 0.73740444 0.78377681\n",
      "  0.25449546 0.87114551]\n",
      " [0.98594539 0.87305363 0.07039262 0.05358729 0.73415296 0.52025852\n",
      "  0.81104004 0.10336036]\n",
      " [0.96457339 0.97397979 0.66375335 0.66221599 0.67312167 0.90523762\n",
      "  0.45887462 0.5609175 ]\n",
      " [0.47207071 0.16820264 0.08642757 0.45265551 0.48061922 0.62243949\n",
      "  0.92897446 0.11253627]\n",
      " [0.85600695 0.6388937  0.32619202 0.66850311 0.24029837 0.21029889\n",
      "  0.16754636 0.96358986]\n",
      " [0.81003174 0.63504604 0.26954758 0.86960534 0.66192159 0.25225873\n",
      "  0.76567003 0.89054867]\n",
      " [0.79625252 0.00703653 0.35569738 0.48756605 0.74051962 0.7066501\n",
      "  0.99291449 0.38173437]\n",
      " [0.48124533 0.10246072 0.21948594 0.67732237 0.24750919 0.24434086\n",
      "  0.16382453 0.71596164]\n",
      " [0.231343   0.116511   0.192802   0.         1.         0.971517\n",
      "  0.109108   0.005687  ]\n",
      " [0.050917   0.510974   0.         0.51982    0.999999   0.964591\n",
      "  0.271744   0.828739  ]\n",
      " [0.331151   0.212415   0.152484   0.         0.999999   0.102819\n",
      "  0.394972   0.789628  ]\n",
      " [0.         0.         0.         0.         0.999999   0.734351\n",
      "  0.999999   0.195222  ]]\n",
      "[7.3987211  7.00522736 8.45948162 8.28400781 8.60611679 8.54174792\n",
      " 7.32743458 7.29987205 7.95787474 5.59219339 7.85454099 6.79198578\n",
      " 8.97655402 7.3790829  9.598482   8.15998319 7.13162397 6.76796253\n",
      " 7.43374407 9.01307515 7.31089382 5.84106731 9.14163949 8.81755844\n",
      " 6.45194313 8.83074505 9.34427428 6.88784639 8.04221254 7.69236805\n",
      " 7.92375877 8.42175924 8.2780624  7.11345716 6.40258841 8.47293632\n",
      " 7.97768459 7.46087219 7.43659353 9.18300525 9.63587296 9.4260415\n",
      " 9.60784962 8.51299849]\n"
     ]
    }
   ],
   "source": [
    "import numpy as np\n",
    "import matplotlib.pyplot as plt\n",
    "from sklearn.gaussian_process import GaussianProcessRegressor\n",
    "from sklearn.gaussian_process.kernels import RBF, WhiteKernel\n",
    "from scipy.optimize import minimize\n",
    "\n",
    "\n",
    "X_train = np.load('initial_data/function_8/initial_inputs.npy')\n",
    "Y_train = np.load('initial_data/function_8/initial_outputs.npy')\n",
    "#0.231343-0.116511-0.192802-0.000000-1.000000-0.971517-0.109108-0.005687\n",
    "\n",
    "X_train = np.append(X_train, [[0.231343,0.116511,0.192802,0.000000,1.000000,0.971517,0.109108,0.005687],\n",
    "                              [0.050917,0.510974,0,0.51982,0.999999,0.964591,0.271744,0.828739],\n",
    "                              [0.331151,0.212415,0.152484,0,0.999999,0.102819,0.394972,0.789628],\n",
    "                              [0.,0.,0,0,0.999999,0.734351 ,0.999999,0.195222]], axis=0)\n",
    "Y_train = np.append(Y_train, [9.6358729591536,9.4260415037804,9.6078496212371,8.512998485868101])\n",
    "\n",
    "print(X_train)\n",
    "print(Y_train)"
   ],
   "metadata": {
    "collapsed": false,
    "ExecuteTime": {
     "end_time": "2024-06-16T22:21:45.833720500Z",
     "start_time": "2024-06-16T22:21:44.582091500Z"
    }
   }
  },
  {
   "cell_type": "code",
   "execution_count": 2,
   "outputs": [
    {
     "name": "stderr",
     "output_type": "stream",
     "text": [
      "C:\\Code\\RoughWork\\Jupyter\\venv\\lib\\site-packages\\sklearn\\gaussian_process\\kernels.py:455: ConvergenceWarning: The optimal value found for dimension 5 of parameter k1__length_scale is close to the specified upper bound 100000.0. Increasing the bound and calling fit again may find a better value.\n",
      "  warnings.warn(\n",
      "C:\\Code\\RoughWork\\Jupyter\\venv\\lib\\site-packages\\sklearn\\gaussian_process\\kernels.py:455: ConvergenceWarning: The optimal value found for dimension 7 of parameter k1__length_scale is close to the specified upper bound 100000.0. Increasing the bound and calling fit again may find a better value.\n",
      "  warnings.warn(\n"
     ]
    },
    {
     "data": {
      "text/plain": "GaussianProcessRegressor(alpha=1e-05,\n                         kernel=RBF(length_scale=[1, 1, 1, 1, 1, 1, 1, 1]) + WhiteKernel(noise_level=1),\n                         normalize_y=True)",
      "text/html": "<style>#sk-container-id-1 {\n  /* Definition of color scheme common for light and dark mode */\n  --sklearn-color-text: black;\n  --sklearn-color-line: gray;\n  /* Definition of color scheme for unfitted estimators */\n  --sklearn-color-unfitted-level-0: #fff5e6;\n  --sklearn-color-unfitted-level-1: #f6e4d2;\n  --sklearn-color-unfitted-level-2: #ffe0b3;\n  --sklearn-color-unfitted-level-3: chocolate;\n  /* Definition of color scheme for fitted estimators */\n  --sklearn-color-fitted-level-0: #f0f8ff;\n  --sklearn-color-fitted-level-1: #d4ebff;\n  --sklearn-color-fitted-level-2: #b3dbfd;\n  --sklearn-color-fitted-level-3: cornflowerblue;\n\n  /* Specific color for light theme */\n  --sklearn-color-text-on-default-background: var(--sg-text-color, var(--theme-code-foreground, var(--jp-content-font-color1, black)));\n  --sklearn-color-background: var(--sg-background-color, var(--theme-background, var(--jp-layout-color0, white)));\n  --sklearn-color-border-box: var(--sg-text-color, var(--theme-code-foreground, var(--jp-content-font-color1, black)));\n  --sklearn-color-icon: #696969;\n\n  @media (prefers-color-scheme: dark) {\n    /* Redefinition of color scheme for dark theme */\n    --sklearn-color-text-on-default-background: var(--sg-text-color, var(--theme-code-foreground, var(--jp-content-font-color1, white)));\n    --sklearn-color-background: var(--sg-background-color, var(--theme-background, var(--jp-layout-color0, #111)));\n    --sklearn-color-border-box: var(--sg-text-color, var(--theme-code-foreground, var(--jp-content-font-color1, white)));\n    --sklearn-color-icon: #878787;\n  }\n}\n\n#sk-container-id-1 {\n  color: var(--sklearn-color-text);\n}\n\n#sk-container-id-1 pre {\n  padding: 0;\n}\n\n#sk-container-id-1 input.sk-hidden--visually {\n  border: 0;\n  clip: rect(1px 1px 1px 1px);\n  clip: rect(1px, 1px, 1px, 1px);\n  height: 1px;\n  margin: -1px;\n  overflow: hidden;\n  padding: 0;\n  position: absolute;\n  width: 1px;\n}\n\n#sk-container-id-1 div.sk-dashed-wrapped {\n  border: 1px dashed var(--sklearn-color-line);\n  margin: 0 0.4em 0.5em 0.4em;\n  box-sizing: border-box;\n  padding-bottom: 0.4em;\n  background-color: var(--sklearn-color-background);\n}\n\n#sk-container-id-1 div.sk-container {\n  /* jupyter's `normalize.less` sets `[hidden] { display: none; }`\n     but bootstrap.min.css set `[hidden] { display: none !important; }`\n     so we also need the `!important` here to be able to override the\n     default hidden behavior on the sphinx rendered scikit-learn.org.\n     See: https://github.com/scikit-learn/scikit-learn/issues/21755 */\n  display: inline-block !important;\n  position: relative;\n}\n\n#sk-container-id-1 div.sk-text-repr-fallback {\n  display: none;\n}\n\ndiv.sk-parallel-item,\ndiv.sk-serial,\ndiv.sk-item {\n  /* draw centered vertical line to link estimators */\n  background-image: linear-gradient(var(--sklearn-color-text-on-default-background), var(--sklearn-color-text-on-default-background));\n  background-size: 2px 100%;\n  background-repeat: no-repeat;\n  background-position: center center;\n}\n\n/* Parallel-specific style estimator block */\n\n#sk-container-id-1 div.sk-parallel-item::after {\n  content: \"\";\n  width: 100%;\n  border-bottom: 2px solid var(--sklearn-color-text-on-default-background);\n  flex-grow: 1;\n}\n\n#sk-container-id-1 div.sk-parallel {\n  display: flex;\n  align-items: stretch;\n  justify-content: center;\n  background-color: var(--sklearn-color-background);\n  position: relative;\n}\n\n#sk-container-id-1 div.sk-parallel-item {\n  display: flex;\n  flex-direction: column;\n}\n\n#sk-container-id-1 div.sk-parallel-item:first-child::after {\n  align-self: flex-end;\n  width: 50%;\n}\n\n#sk-container-id-1 div.sk-parallel-item:last-child::after {\n  align-self: flex-start;\n  width: 50%;\n}\n\n#sk-container-id-1 div.sk-parallel-item:only-child::after {\n  width: 0;\n}\n\n/* Serial-specific style estimator block */\n\n#sk-container-id-1 div.sk-serial {\n  display: flex;\n  flex-direction: column;\n  align-items: center;\n  background-color: var(--sklearn-color-background);\n  padding-right: 1em;\n  padding-left: 1em;\n}\n\n\n/* Toggleable style: style used for estimator/Pipeline/ColumnTransformer box that is\nclickable and can be expanded/collapsed.\n- Pipeline and ColumnTransformer use this feature and define the default style\n- Estimators will overwrite some part of the style using the `sk-estimator` class\n*/\n\n/* Pipeline and ColumnTransformer style (default) */\n\n#sk-container-id-1 div.sk-toggleable {\n  /* Default theme specific background. It is overwritten whether we have a\n  specific estimator or a Pipeline/ColumnTransformer */\n  background-color: var(--sklearn-color-background);\n}\n\n/* Toggleable label */\n#sk-container-id-1 label.sk-toggleable__label {\n  cursor: pointer;\n  display: block;\n  width: 100%;\n  margin-bottom: 0;\n  padding: 0.5em;\n  box-sizing: border-box;\n  text-align: center;\n}\n\n#sk-container-id-1 label.sk-toggleable__label-arrow:before {\n  /* Arrow on the left of the label */\n  content: \"▸\";\n  float: left;\n  margin-right: 0.25em;\n  color: var(--sklearn-color-icon);\n}\n\n#sk-container-id-1 label.sk-toggleable__label-arrow:hover:before {\n  color: var(--sklearn-color-text);\n}\n\n/* Toggleable content - dropdown */\n\n#sk-container-id-1 div.sk-toggleable__content {\n  max-height: 0;\n  max-width: 0;\n  overflow: hidden;\n  text-align: left;\n  /* unfitted */\n  background-color: var(--sklearn-color-unfitted-level-0);\n}\n\n#sk-container-id-1 div.sk-toggleable__content.fitted {\n  /* fitted */\n  background-color: var(--sklearn-color-fitted-level-0);\n}\n\n#sk-container-id-1 div.sk-toggleable__content pre {\n  margin: 0.2em;\n  border-radius: 0.25em;\n  color: var(--sklearn-color-text);\n  /* unfitted */\n  background-color: var(--sklearn-color-unfitted-level-0);\n}\n\n#sk-container-id-1 div.sk-toggleable__content.fitted pre {\n  /* unfitted */\n  background-color: var(--sklearn-color-fitted-level-0);\n}\n\n#sk-container-id-1 input.sk-toggleable__control:checked~div.sk-toggleable__content {\n  /* Expand drop-down */\n  max-height: 200px;\n  max-width: 100%;\n  overflow: auto;\n}\n\n#sk-container-id-1 input.sk-toggleable__control:checked~label.sk-toggleable__label-arrow:before {\n  content: \"▾\";\n}\n\n/* Pipeline/ColumnTransformer-specific style */\n\n#sk-container-id-1 div.sk-label input.sk-toggleable__control:checked~label.sk-toggleable__label {\n  color: var(--sklearn-color-text);\n  background-color: var(--sklearn-color-unfitted-level-2);\n}\n\n#sk-container-id-1 div.sk-label.fitted input.sk-toggleable__control:checked~label.sk-toggleable__label {\n  background-color: var(--sklearn-color-fitted-level-2);\n}\n\n/* Estimator-specific style */\n\n/* Colorize estimator box */\n#sk-container-id-1 div.sk-estimator input.sk-toggleable__control:checked~label.sk-toggleable__label {\n  /* unfitted */\n  background-color: var(--sklearn-color-unfitted-level-2);\n}\n\n#sk-container-id-1 div.sk-estimator.fitted input.sk-toggleable__control:checked~label.sk-toggleable__label {\n  /* fitted */\n  background-color: var(--sklearn-color-fitted-level-2);\n}\n\n#sk-container-id-1 div.sk-label label.sk-toggleable__label,\n#sk-container-id-1 div.sk-label label {\n  /* The background is the default theme color */\n  color: var(--sklearn-color-text-on-default-background);\n}\n\n/* On hover, darken the color of the background */\n#sk-container-id-1 div.sk-label:hover label.sk-toggleable__label {\n  color: var(--sklearn-color-text);\n  background-color: var(--sklearn-color-unfitted-level-2);\n}\n\n/* Label box, darken color on hover, fitted */\n#sk-container-id-1 div.sk-label.fitted:hover label.sk-toggleable__label.fitted {\n  color: var(--sklearn-color-text);\n  background-color: var(--sklearn-color-fitted-level-2);\n}\n\n/* Estimator label */\n\n#sk-container-id-1 div.sk-label label {\n  font-family: monospace;\n  font-weight: bold;\n  display: inline-block;\n  line-height: 1.2em;\n}\n\n#sk-container-id-1 div.sk-label-container {\n  text-align: center;\n}\n\n/* Estimator-specific */\n#sk-container-id-1 div.sk-estimator {\n  font-family: monospace;\n  border: 1px dotted var(--sklearn-color-border-box);\n  border-radius: 0.25em;\n  box-sizing: border-box;\n  margin-bottom: 0.5em;\n  /* unfitted */\n  background-color: var(--sklearn-color-unfitted-level-0);\n}\n\n#sk-container-id-1 div.sk-estimator.fitted {\n  /* fitted */\n  background-color: var(--sklearn-color-fitted-level-0);\n}\n\n/* on hover */\n#sk-container-id-1 div.sk-estimator:hover {\n  /* unfitted */\n  background-color: var(--sklearn-color-unfitted-level-2);\n}\n\n#sk-container-id-1 div.sk-estimator.fitted:hover {\n  /* fitted */\n  background-color: var(--sklearn-color-fitted-level-2);\n}\n\n/* Specification for estimator info (e.g. \"i\" and \"?\") */\n\n/* Common style for \"i\" and \"?\" */\n\n.sk-estimator-doc-link,\na:link.sk-estimator-doc-link,\na:visited.sk-estimator-doc-link {\n  float: right;\n  font-size: smaller;\n  line-height: 1em;\n  font-family: monospace;\n  background-color: var(--sklearn-color-background);\n  border-radius: 1em;\n  height: 1em;\n  width: 1em;\n  text-decoration: none !important;\n  margin-left: 1ex;\n  /* unfitted */\n  border: var(--sklearn-color-unfitted-level-1) 1pt solid;\n  color: var(--sklearn-color-unfitted-level-1);\n}\n\n.sk-estimator-doc-link.fitted,\na:link.sk-estimator-doc-link.fitted,\na:visited.sk-estimator-doc-link.fitted {\n  /* fitted */\n  border: var(--sklearn-color-fitted-level-1) 1pt solid;\n  color: var(--sklearn-color-fitted-level-1);\n}\n\n/* On hover */\ndiv.sk-estimator:hover .sk-estimator-doc-link:hover,\n.sk-estimator-doc-link:hover,\ndiv.sk-label-container:hover .sk-estimator-doc-link:hover,\n.sk-estimator-doc-link:hover {\n  /* unfitted */\n  background-color: var(--sklearn-color-unfitted-level-3);\n  color: var(--sklearn-color-background);\n  text-decoration: none;\n}\n\ndiv.sk-estimator.fitted:hover .sk-estimator-doc-link.fitted:hover,\n.sk-estimator-doc-link.fitted:hover,\ndiv.sk-label-container:hover .sk-estimator-doc-link.fitted:hover,\n.sk-estimator-doc-link.fitted:hover {\n  /* fitted */\n  background-color: var(--sklearn-color-fitted-level-3);\n  color: var(--sklearn-color-background);\n  text-decoration: none;\n}\n\n/* Span, style for the box shown on hovering the info icon */\n.sk-estimator-doc-link span {\n  display: none;\n  z-index: 9999;\n  position: relative;\n  font-weight: normal;\n  right: .2ex;\n  padding: .5ex;\n  margin: .5ex;\n  width: min-content;\n  min-width: 20ex;\n  max-width: 50ex;\n  color: var(--sklearn-color-text);\n  box-shadow: 2pt 2pt 4pt #999;\n  /* unfitted */\n  background: var(--sklearn-color-unfitted-level-0);\n  border: .5pt solid var(--sklearn-color-unfitted-level-3);\n}\n\n.sk-estimator-doc-link.fitted span {\n  /* fitted */\n  background: var(--sklearn-color-fitted-level-0);\n  border: var(--sklearn-color-fitted-level-3);\n}\n\n.sk-estimator-doc-link:hover span {\n  display: block;\n}\n\n/* \"?\"-specific style due to the `<a>` HTML tag */\n\n#sk-container-id-1 a.estimator_doc_link {\n  float: right;\n  font-size: 1rem;\n  line-height: 1em;\n  font-family: monospace;\n  background-color: var(--sklearn-color-background);\n  border-radius: 1rem;\n  height: 1rem;\n  width: 1rem;\n  text-decoration: none;\n  /* unfitted */\n  color: var(--sklearn-color-unfitted-level-1);\n  border: var(--sklearn-color-unfitted-level-1) 1pt solid;\n}\n\n#sk-container-id-1 a.estimator_doc_link.fitted {\n  /* fitted */\n  border: var(--sklearn-color-fitted-level-1) 1pt solid;\n  color: var(--sklearn-color-fitted-level-1);\n}\n\n/* On hover */\n#sk-container-id-1 a.estimator_doc_link:hover {\n  /* unfitted */\n  background-color: var(--sklearn-color-unfitted-level-3);\n  color: var(--sklearn-color-background);\n  text-decoration: none;\n}\n\n#sk-container-id-1 a.estimator_doc_link.fitted:hover {\n  /* fitted */\n  background-color: var(--sklearn-color-fitted-level-3);\n}\n</style><div id=\"sk-container-id-1\" class=\"sk-top-container\"><div class=\"sk-text-repr-fallback\"><pre>GaussianProcessRegressor(alpha=1e-05,\n                         kernel=RBF(length_scale=[1, 1, 1, 1, 1, 1, 1, 1]) + WhiteKernel(noise_level=1),\n                         normalize_y=True)</pre><b>In a Jupyter environment, please rerun this cell to show the HTML representation or trust the notebook. <br />On GitHub, the HTML representation is unable to render, please try loading this page with nbviewer.org.</b></div><div class=\"sk-container\" hidden><div class=\"sk-item\"><div class=\"sk-estimator fitted sk-toggleable\"><input class=\"sk-toggleable__control sk-hidden--visually\" id=\"sk-estimator-id-1\" type=\"checkbox\" checked><label for=\"sk-estimator-id-1\" class=\"sk-toggleable__label fitted sk-toggleable__label-arrow fitted\">&nbsp;&nbsp;GaussianProcessRegressor<a class=\"sk-estimator-doc-link fitted\" rel=\"noreferrer\" target=\"_blank\" href=\"https://scikit-learn.org/1.4/modules/generated/sklearn.gaussian_process.GaussianProcessRegressor.html\">?<span>Documentation for GaussianProcessRegressor</span></a><span class=\"sk-estimator-doc-link fitted\">i<span>Fitted</span></span></label><div class=\"sk-toggleable__content fitted\"><pre>GaussianProcessRegressor(alpha=1e-05,\n                         kernel=RBF(length_scale=[1, 1, 1, 1, 1, 1, 1, 1]) + WhiteKernel(noise_level=1),\n                         normalize_y=True)</pre></div> </div></div></div></div>"
     },
     "execution_count": 2,
     "metadata": {},
     "output_type": "execute_result"
    }
   ],
   "source": [
    "# Define Gaussian Process\n",
    "kernel = RBF(length_scale=np.ones(8)) + WhiteKernel(noise_level=1)\n",
    "gp = GaussianProcessRegressor(kernel=kernel, alpha=1e-5, normalize_y=True)\n",
    "gp.fit(X_train, Y_train.ravel())"
   ],
   "metadata": {
    "collapsed": false,
    "ExecuteTime": {
     "end_time": "2024-06-16T22:21:46.007078500Z",
     "start_time": "2024-06-16T22:21:45.822691900Z"
    }
   }
  },
  {
   "cell_type": "code",
   "execution_count": 3,
   "outputs": [],
   "source": [
    "def ucb(X, gp, kappa=1.96):  # kappa can be adjusted based on your confidence level needs\n",
    "    mean, std = gp.predict(X, return_std=True)\n",
    "    return mean + kappa * std\n"
   ],
   "metadata": {
    "collapsed": false,
    "ExecuteTime": {
     "end_time": "2024-06-16T22:21:46.031073400Z",
     "start_time": "2024-06-16T22:21:46.012056300Z"
    }
   }
  },
  {
   "cell_type": "code",
   "execution_count": 4,
   "outputs": [
    {
     "name": "stdout",
     "output_type": "stream",
     "text": [
      "Proposed new hyperparameters: [0.         0.44547121 0.         0.         0.         0.11118263\n",
      " 0.         0.92574624]\n",
      "[0.000000-0.445471-0.000000-0.000000-0.000000-0.111183-0.000000-0.925746]\n"
     ]
    }
   ],
   "source": [
    "def propose_point(gp, bounds=np.array([[0, 1]]*8), n_restarts=20):\n",
    "    best_x = None\n",
    "    best_ucb = float('-inf')\n",
    "\n",
    "    for starting_point in np.random.uniform(bounds[:, 0], bounds[:, 1], size=(n_restarts, 8)):\n",
    "        res = minimize(lambda x: -ucb(x.reshape(1, -1), gp), x0=starting_point, bounds=bounds, method='L-BFGS-B')\n",
    "        if -res.fun > best_ucb:\n",
    "            best_ucb = -res.fun\n",
    "            best_x = res.x\n",
    "            \n",
    "    return best_x\n",
    "\n",
    "new_point = propose_point(gp)\n",
    "print(\"Proposed new hyperparameters:\", new_point)\n",
    "\n",
    "print(np.array2string(new_point,precision=6,separator='-',floatmode='fixed',formatter={'float':'{:0.6f}'.format}))\n"
   ],
   "metadata": {
    "collapsed": false,
    "ExecuteTime": {
     "end_time": "2024-06-16T22:21:46.764448600Z",
     "start_time": "2024-06-16T22:21:46.030053700Z"
    }
   }
  }
 ],
 "metadata": {
  "interpreter": {
   "hash": "d37abda7630e259e5026a5079657683a09f6e3d11473720762ebe7250c494840"
  },
  "kernelspec": {
   "display_name": "Python 3 (ipykernel)",
   "language": "python",
   "name": "python3"
  },
  "language_info": {
   "codemirror_mode": {
    "name": "ipython",
    "version": 3
   },
   "file_extension": ".py",
   "mimetype": "text/x-python",
   "name": "python",
   "nbconvert_exporter": "python",
   "pygments_lexer": "ipython3",
   "version": "3.8.5"
  }
 },
 "nbformat": 4,
 "nbformat_minor": 2
}
