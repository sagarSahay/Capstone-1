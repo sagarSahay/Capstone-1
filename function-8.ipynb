{
 "cells": [
  {
   "cell_type": "code",
   "execution_count": 1,
   "outputs": [
    {
     "name": "stdout",
     "output_type": "stream",
     "text": [
      "[[6.04994453e-01 2.92215020e-01 9.08452748e-01 3.55506242e-01\n",
      "  2.01668719e-01 5.75338005e-01 3.10310951e-01 7.34281377e-01]\n",
      " [1.78006959e-01 5.66222654e-01 9.94861845e-01 2.10325006e-01\n",
      "  3.20152657e-01 7.07908792e-01 6.35384489e-01 1.07131627e-01]\n",
      " [9.07697668e-03 8.11626153e-01 5.20520360e-01 7.56866752e-02\n",
      "  2.65111825e-01 9.16516894e-02 5.92415145e-01 3.67320262e-01]\n",
      " [5.06028164e-01 6.53730123e-01 3.63410779e-01 1.77981049e-01\n",
      "  9.37283044e-02 1.97425331e-01 7.55826900e-01 2.92472339e-01]\n",
      " [3.59909264e-01 2.49075679e-01 4.95997170e-01 7.09214981e-01\n",
      "  1.14987195e-01 2.89206921e-01 5.57295151e-01 5.93881726e-01]\n",
      " [7.78818344e-01 3.41949948e-03 3.37983130e-01 5.19527778e-01\n",
      "  8.20906993e-01 5.37246689e-01 5.51347098e-01 6.60032086e-01]\n",
      " [9.08649322e-01 6.22496998e-02 2.38259546e-01 7.66603545e-01\n",
      "  1.32335962e-01 9.90243814e-01 6.88067822e-01 7.42495941e-01]\n",
      " [5.86371444e-01 8.80735726e-01 7.45020752e-01 5.46034849e-01\n",
      "  9.64887799e-03 7.48991763e-01 2.30907070e-01 9.79156228e-02]\n",
      " [7.61137326e-01 8.54672390e-01 3.82124331e-01 3.37351983e-01\n",
      "  6.89708320e-01 3.09853052e-01 6.31379683e-01 4.19560695e-02]\n",
      " [9.84933202e-01 6.99506258e-01 9.98885497e-01 1.80148456e-01\n",
      "  5.80143147e-01 2.31087191e-01 4.90826936e-01 3.13682720e-01]\n",
      " [1.12071314e-01 4.37735663e-01 5.96598785e-01 5.92775633e-01\n",
      "  2.26981770e-01 4.10104519e-01 9.21237577e-01 6.74752759e-01]\n",
      " [7.91887508e-01 5.76191336e-01 6.94528359e-01 2.83423782e-01\n",
      "  1.36755461e-01 2.79161861e-01 8.42767264e-01 6.25327922e-01]\n",
      " [1.43550296e-01 9.37414515e-01 2.32324818e-01 9.04348540e-03\n",
      "  4.14578930e-01 4.09325169e-01 5.53778522e-01 2.05840800e-01]\n",
      " [7.69916548e-01 4.58759088e-01 5.59000445e-01 6.94604441e-01\n",
      "  5.03199022e-01 7.28346383e-01 7.84253534e-01 6.63131087e-01]\n",
      " [5.64474111e-02 6.59555534e-02 2.29286780e-02 3.87864724e-02\n",
      "  4.03935441e-01 8.01055329e-01 4.88307007e-01 8.93084977e-01]\n",
      " [8.62437445e-01 4.82733822e-01 2.81869398e-01 5.44102227e-01\n",
      "  8.87490260e-01 3.82654693e-01 6.01901993e-01 4.76461690e-01]\n",
      " [3.51511904e-01 5.90064942e-01 9.09436304e-01 6.78408354e-01\n",
      "  2.12825656e-01 8.84603803e-02 4.10152995e-01 1.95724292e-01]\n",
      " [7.35903638e-01 3.46118895e-02 7.28030269e-01 1.47426522e-01\n",
      "  2.95743139e-01 4.45117308e-01 9.75179686e-01 3.74339784e-01]\n",
      " [6.80293974e-01 2.55104646e-01 8.62187985e-01 1.34395821e-01\n",
      "  3.26329200e-01 2.87906871e-01 4.35010484e-01 3.64200126e-01]\n",
      " [4.43292532e-02 1.35814872e-02 2.58198240e-01 5.77644163e-01\n",
      "  5.12799230e-02 1.58563071e-01 5.91030124e-01 7.79529335e-02]\n",
      " [7.78345480e-01 7.51145652e-01 3.14142208e-01 9.02985775e-01\n",
      "  3.35381656e-01 3.86322669e-01 7.48972486e-01 9.88755104e-01]\n",
      " [8.98887111e-01 5.23641705e-01 8.76783255e-01 2.18696449e-01\n",
      "  9.00260894e-01 2.82766245e-01 9.11077910e-01 4.72398218e-01]\n",
      " [1.45120286e-01 1.19327540e-01 4.20888224e-01 3.87608607e-01\n",
      "  1.55422833e-01 8.75171626e-01 5.10559672e-01 7.28610579e-01]\n",
      " [3.38954419e-01 5.66932018e-01 3.76751098e-01 9.89157290e-02\n",
      "  6.59451687e-01 2.45548090e-01 7.62482784e-01 7.32153467e-01]\n",
      " [1.76150018e-01 2.93961428e-01 9.75679966e-01 7.93936306e-01\n",
      "  9.23400762e-01 3.08422938e-02 8.03254524e-01 5.95897583e-01]\n",
      " [2.89466302e-02 2.82790578e-02 4.81371555e-01 6.13174600e-01\n",
      "  6.72660448e-01 2.21134069e-02 6.01483302e-01 5.24885053e-01]\n",
      " [1.92639868e-01 6.30677279e-01 4.16795837e-01 4.90529289e-01\n",
      "  7.96086023e-01 6.54567065e-01 2.76241193e-01 2.95517586e-01]\n",
      " [9.43185017e-01 2.18850618e-01 7.21184081e-01 4.24597072e-01\n",
      "  9.86902000e-01 5.35182984e-01 7.14743177e-01 9.60093720e-01]\n",
      " [5.32721401e-01 8.33692597e-01 7.13990037e-02 1.16811483e-01\n",
      "  7.30693110e-01 9.37375591e-01 8.66507981e-01 1.27901999e-01]\n",
      " [4.47095841e-01 8.43952527e-01 7.29546115e-01 6.39151378e-01\n",
      "  4.09287137e-01 1.32645694e-01 3.59088762e-02 4.46838470e-01]\n",
      " [3.82224965e-01 5.57135837e-01 8.53101634e-01 3.33795692e-01\n",
      "  2.65721272e-01 4.80872916e-01 2.37647062e-01 7.68631956e-01]\n",
      " [5.32819530e-01 8.62308484e-01 5.38267119e-01 4.94429349e-02\n",
      "  7.19701189e-01 9.06705899e-01 1.08230943e-01 5.25347913e-01]\n",
      " [3.94865187e-01 3.31801666e-01 7.40754301e-01 6.97861725e-01\n",
      "  7.37404439e-01 7.83776810e-01 2.54495461e-01 8.71145510e-01]\n",
      " [9.85945390e-01 8.73053629e-01 7.03926194e-02 5.35872927e-02\n",
      "  7.34152958e-01 5.20258522e-01 8.11040045e-01 1.03360365e-01]\n",
      " [9.64573386e-01 9.73979787e-01 6.63753351e-01 6.62215992e-01\n",
      "  6.73121672e-01 9.05237624e-01 4.58874624e-01 5.60917502e-01]\n",
      " [4.72070709e-01 1.68202645e-01 8.64275662e-02 4.52655513e-01\n",
      "  4.80619220e-01 6.22439489e-01 9.28974462e-01 1.12536267e-01]\n",
      " [8.56006953e-01 6.38893704e-01 3.26192022e-01 6.68503115e-01\n",
      "  2.40298369e-01 2.10298890e-01 1.67546362e-01 9.63589863e-01]\n",
      " [8.10031736e-01 6.35046041e-01 2.69547579e-01 8.69605338e-01\n",
      "  6.61921590e-01 2.52258727e-01 7.65670033e-01 8.90548667e-01]\n",
      " [7.96252524e-01 7.03653252e-03 3.55697380e-01 4.87566053e-01\n",
      "  7.40519615e-01 7.06650103e-01 9.92914495e-01 3.81734367e-01]\n",
      " [4.81245331e-01 1.02460721e-01 2.19485939e-01 6.77322369e-01\n",
      "  2.47509187e-01 2.44340858e-01 1.63824527e-01 7.15961640e-01]\n",
      " [2.31343000e-01 1.16511000e-01 1.92802000e-01 0.00000000e+00\n",
      "  1.00000000e+00 9.71517000e-01 1.09108000e-01 5.68700000e-03]\n",
      " [5.09170000e-02 5.10974000e-01 0.00000000e+00 5.19820000e-01\n",
      "  9.99999000e-01 9.64591000e-01 2.71744000e-01 8.28739000e-01]\n",
      " [3.31151000e-01 2.12415000e-01 1.52484000e-01 0.00000000e+00\n",
      "  9.99999000e-01 1.02819000e-01 3.94972000e-01 7.89628000e-01]\n",
      " [0.00000000e+00 0.00000000e+00 0.00000000e+00 0.00000000e+00\n",
      "  9.99999000e-01 7.34351000e-01 9.99999000e-01 1.95222000e-01]\n",
      " [0.00000000e+00 4.45471000e-01 0.00000000e+00 0.00000000e+00\n",
      "  0.00000000e+00 1.11183000e-01 0.00000000e+00 9.25746000e-01]\n",
      " [2.82290000e-01 1.00000000e-06 4.52278000e-01 1.00000000e-06\n",
      "  9.99999000e-01 7.60695000e-01 1.17340000e-01 9.91686000e-01]]\n",
      "[7.3987211  7.00522736 8.45948162 8.28400781 8.60611679 8.54174792\n",
      " 7.32743458 7.29987205 7.95787474 5.59219339 7.85454099 6.79198578\n",
      " 8.97655402 7.3790829  9.598482   8.15998319 7.13162397 6.76796253\n",
      " 7.43374407 9.01307515 7.31089382 5.84106731 9.14163949 8.81755844\n",
      " 6.45194313 8.83074505 9.34427428 6.88784639 8.04221254 7.69236805\n",
      " 7.92375877 8.42175924 8.2780624  7.11345716 6.40258841 8.47293632\n",
      " 7.97768459 7.46087219 7.43659353 9.18300525 9.63587296 9.4260415\n",
      " 9.60784962 8.51299849 9.25770718 9.45998316]\n"
     ]
    }
   ],
   "source": [
    "import numpy as np\n",
    "import matplotlib.pyplot as plt\n",
    "from sklearn.gaussian_process import GaussianProcessRegressor\n",
    "from sklearn.gaussian_process.kernels import RBF, WhiteKernel\n",
    "from scipy.optimize import minimize\n",
    "\n",
    "\n",
    "X_train = np.load('initial_data/function_8/initial_inputs.npy')\n",
    "Y_train = np.load('initial_data/function_8/initial_outputs.npy')\n",
    "#0.231343-0.116511-0.192802-0.000000-1.000000-0.971517-0.109108-0.005687\n",
    "\n",
    "X_train = np.append(X_train, [[0.231343,0.116511,0.192802,0.000000,1.000000,0.971517,0.109108,0.005687],\n",
    "                              [0.050917,0.510974,0,0.51982,0.999999,0.964591,0.271744,0.828739],\n",
    "                              [0.331151,0.212415,0.152484,0,0.999999,0.102819,0.394972,0.789628],\n",
    "                              [0.,0.,0,0,0.999999,0.734351 ,0.999999,0.195222],\n",
    "                              [0,0.445471,0,0,0,0.111183,0,0.925746],\n",
    "                              [2.82290e-01,1.00000e-06,4.52278e-01,1.00000e-06,9.99999e-01,7.60695e-01\n",
    " ,1.17340e-01,9.91686e-01]], axis=0)\n",
    "Y_train = np.append(Y_train, [9.6358729591536,9.4260415037804,9.6078496212371,8.512998485868101,9.2577071830184,9.4599831574609])\n",
    "\n",
    "print(X_train)\n",
    "print(Y_train)"
   ],
   "metadata": {
    "collapsed": false,
    "ExecuteTime": {
     "end_time": "2024-07-22T19:32:37.396515700Z",
     "start_time": "2024-07-22T19:32:35.934940400Z"
    }
   }
  },
  {
   "cell_type": "code",
   "execution_count": 2,
   "outputs": [
    {
     "name": "stderr",
     "output_type": "stream",
     "text": [
      "C:\\Code\\RoughWork\\Jupyter\\venv\\lib\\site-packages\\sklearn\\gaussian_process\\kernels.py:455: ConvergenceWarning: The optimal value found for dimension 5 of parameter k1__length_scale is close to the specified upper bound 100000.0. Increasing the bound and calling fit again may find a better value.\n",
      "  warnings.warn(\n",
      "C:\\Code\\RoughWork\\Jupyter\\venv\\lib\\site-packages\\sklearn\\gaussian_process\\kernels.py:455: ConvergenceWarning: The optimal value found for dimension 7 of parameter k1__length_scale is close to the specified upper bound 100000.0. Increasing the bound and calling fit again may find a better value.\n",
      "  warnings.warn(\n"
     ]
    },
    {
     "data": {
      "text/plain": "GaussianProcessRegressor(alpha=1e-05,\n                         kernel=RBF(length_scale=[1, 1, 1, 1, 1, 1, 1, 1]) + WhiteKernel(noise_level=1),\n                         normalize_y=True)",
      "text/html": "<style>#sk-container-id-1 {\n  /* Definition of color scheme common for light and dark mode */\n  --sklearn-color-text: black;\n  --sklearn-color-line: gray;\n  /* Definition of color scheme for unfitted estimators */\n  --sklearn-color-unfitted-level-0: #fff5e6;\n  --sklearn-color-unfitted-level-1: #f6e4d2;\n  --sklearn-color-unfitted-level-2: #ffe0b3;\n  --sklearn-color-unfitted-level-3: chocolate;\n  /* Definition of color scheme for fitted estimators */\n  --sklearn-color-fitted-level-0: #f0f8ff;\n  --sklearn-color-fitted-level-1: #d4ebff;\n  --sklearn-color-fitted-level-2: #b3dbfd;\n  --sklearn-color-fitted-level-3: cornflowerblue;\n\n  /* Specific color for light theme */\n  --sklearn-color-text-on-default-background: var(--sg-text-color, var(--theme-code-foreground, var(--jp-content-font-color1, black)));\n  --sklearn-color-background: var(--sg-background-color, var(--theme-background, var(--jp-layout-color0, white)));\n  --sklearn-color-border-box: var(--sg-text-color, var(--theme-code-foreground, var(--jp-content-font-color1, black)));\n  --sklearn-color-icon: #696969;\n\n  @media (prefers-color-scheme: dark) {\n    /* Redefinition of color scheme for dark theme */\n    --sklearn-color-text-on-default-background: var(--sg-text-color, var(--theme-code-foreground, var(--jp-content-font-color1, white)));\n    --sklearn-color-background: var(--sg-background-color, var(--theme-background, var(--jp-layout-color0, #111)));\n    --sklearn-color-border-box: var(--sg-text-color, var(--theme-code-foreground, var(--jp-content-font-color1, white)));\n    --sklearn-color-icon: #878787;\n  }\n}\n\n#sk-container-id-1 {\n  color: var(--sklearn-color-text);\n}\n\n#sk-container-id-1 pre {\n  padding: 0;\n}\n\n#sk-container-id-1 input.sk-hidden--visually {\n  border: 0;\n  clip: rect(1px 1px 1px 1px);\n  clip: rect(1px, 1px, 1px, 1px);\n  height: 1px;\n  margin: -1px;\n  overflow: hidden;\n  padding: 0;\n  position: absolute;\n  width: 1px;\n}\n\n#sk-container-id-1 div.sk-dashed-wrapped {\n  border: 1px dashed var(--sklearn-color-line);\n  margin: 0 0.4em 0.5em 0.4em;\n  box-sizing: border-box;\n  padding-bottom: 0.4em;\n  background-color: var(--sklearn-color-background);\n}\n\n#sk-container-id-1 div.sk-container {\n  /* jupyter's `normalize.less` sets `[hidden] { display: none; }`\n     but bootstrap.min.css set `[hidden] { display: none !important; }`\n     so we also need the `!important` here to be able to override the\n     default hidden behavior on the sphinx rendered scikit-learn.org.\n     See: https://github.com/scikit-learn/scikit-learn/issues/21755 */\n  display: inline-block !important;\n  position: relative;\n}\n\n#sk-container-id-1 div.sk-text-repr-fallback {\n  display: none;\n}\n\ndiv.sk-parallel-item,\ndiv.sk-serial,\ndiv.sk-item {\n  /* draw centered vertical line to link estimators */\n  background-image: linear-gradient(var(--sklearn-color-text-on-default-background), var(--sklearn-color-text-on-default-background));\n  background-size: 2px 100%;\n  background-repeat: no-repeat;\n  background-position: center center;\n}\n\n/* Parallel-specific style estimator block */\n\n#sk-container-id-1 div.sk-parallel-item::after {\n  content: \"\";\n  width: 100%;\n  border-bottom: 2px solid var(--sklearn-color-text-on-default-background);\n  flex-grow: 1;\n}\n\n#sk-container-id-1 div.sk-parallel {\n  display: flex;\n  align-items: stretch;\n  justify-content: center;\n  background-color: var(--sklearn-color-background);\n  position: relative;\n}\n\n#sk-container-id-1 div.sk-parallel-item {\n  display: flex;\n  flex-direction: column;\n}\n\n#sk-container-id-1 div.sk-parallel-item:first-child::after {\n  align-self: flex-end;\n  width: 50%;\n}\n\n#sk-container-id-1 div.sk-parallel-item:last-child::after {\n  align-self: flex-start;\n  width: 50%;\n}\n\n#sk-container-id-1 div.sk-parallel-item:only-child::after {\n  width: 0;\n}\n\n/* Serial-specific style estimator block */\n\n#sk-container-id-1 div.sk-serial {\n  display: flex;\n  flex-direction: column;\n  align-items: center;\n  background-color: var(--sklearn-color-background);\n  padding-right: 1em;\n  padding-left: 1em;\n}\n\n\n/* Toggleable style: style used for estimator/Pipeline/ColumnTransformer box that is\nclickable and can be expanded/collapsed.\n- Pipeline and ColumnTransformer use this feature and define the default style\n- Estimators will overwrite some part of the style using the `sk-estimator` class\n*/\n\n/* Pipeline and ColumnTransformer style (default) */\n\n#sk-container-id-1 div.sk-toggleable {\n  /* Default theme specific background. It is overwritten whether we have a\n  specific estimator or a Pipeline/ColumnTransformer */\n  background-color: var(--sklearn-color-background);\n}\n\n/* Toggleable label */\n#sk-container-id-1 label.sk-toggleable__label {\n  cursor: pointer;\n  display: block;\n  width: 100%;\n  margin-bottom: 0;\n  padding: 0.5em;\n  box-sizing: border-box;\n  text-align: center;\n}\n\n#sk-container-id-1 label.sk-toggleable__label-arrow:before {\n  /* Arrow on the left of the label */\n  content: \"▸\";\n  float: left;\n  margin-right: 0.25em;\n  color: var(--sklearn-color-icon);\n}\n\n#sk-container-id-1 label.sk-toggleable__label-arrow:hover:before {\n  color: var(--sklearn-color-text);\n}\n\n/* Toggleable content - dropdown */\n\n#sk-container-id-1 div.sk-toggleable__content {\n  max-height: 0;\n  max-width: 0;\n  overflow: hidden;\n  text-align: left;\n  /* unfitted */\n  background-color: var(--sklearn-color-unfitted-level-0);\n}\n\n#sk-container-id-1 div.sk-toggleable__content.fitted {\n  /* fitted */\n  background-color: var(--sklearn-color-fitted-level-0);\n}\n\n#sk-container-id-1 div.sk-toggleable__content pre {\n  margin: 0.2em;\n  border-radius: 0.25em;\n  color: var(--sklearn-color-text);\n  /* unfitted */\n  background-color: var(--sklearn-color-unfitted-level-0);\n}\n\n#sk-container-id-1 div.sk-toggleable__content.fitted pre {\n  /* unfitted */\n  background-color: var(--sklearn-color-fitted-level-0);\n}\n\n#sk-container-id-1 input.sk-toggleable__control:checked~div.sk-toggleable__content {\n  /* Expand drop-down */\n  max-height: 200px;\n  max-width: 100%;\n  overflow: auto;\n}\n\n#sk-container-id-1 input.sk-toggleable__control:checked~label.sk-toggleable__label-arrow:before {\n  content: \"▾\";\n}\n\n/* Pipeline/ColumnTransformer-specific style */\n\n#sk-container-id-1 div.sk-label input.sk-toggleable__control:checked~label.sk-toggleable__label {\n  color: var(--sklearn-color-text);\n  background-color: var(--sklearn-color-unfitted-level-2);\n}\n\n#sk-container-id-1 div.sk-label.fitted input.sk-toggleable__control:checked~label.sk-toggleable__label {\n  background-color: var(--sklearn-color-fitted-level-2);\n}\n\n/* Estimator-specific style */\n\n/* Colorize estimator box */\n#sk-container-id-1 div.sk-estimator input.sk-toggleable__control:checked~label.sk-toggleable__label {\n  /* unfitted */\n  background-color: var(--sklearn-color-unfitted-level-2);\n}\n\n#sk-container-id-1 div.sk-estimator.fitted input.sk-toggleable__control:checked~label.sk-toggleable__label {\n  /* fitted */\n  background-color: var(--sklearn-color-fitted-level-2);\n}\n\n#sk-container-id-1 div.sk-label label.sk-toggleable__label,\n#sk-container-id-1 div.sk-label label {\n  /* The background is the default theme color */\n  color: var(--sklearn-color-text-on-default-background);\n}\n\n/* On hover, darken the color of the background */\n#sk-container-id-1 div.sk-label:hover label.sk-toggleable__label {\n  color: var(--sklearn-color-text);\n  background-color: var(--sklearn-color-unfitted-level-2);\n}\n\n/* Label box, darken color on hover, fitted */\n#sk-container-id-1 div.sk-label.fitted:hover label.sk-toggleable__label.fitted {\n  color: var(--sklearn-color-text);\n  background-color: var(--sklearn-color-fitted-level-2);\n}\n\n/* Estimator label */\n\n#sk-container-id-1 div.sk-label label {\n  font-family: monospace;\n  font-weight: bold;\n  display: inline-block;\n  line-height: 1.2em;\n}\n\n#sk-container-id-1 div.sk-label-container {\n  text-align: center;\n}\n\n/* Estimator-specific */\n#sk-container-id-1 div.sk-estimator {\n  font-family: monospace;\n  border: 1px dotted var(--sklearn-color-border-box);\n  border-radius: 0.25em;\n  box-sizing: border-box;\n  margin-bottom: 0.5em;\n  /* unfitted */\n  background-color: var(--sklearn-color-unfitted-level-0);\n}\n\n#sk-container-id-1 div.sk-estimator.fitted {\n  /* fitted */\n  background-color: var(--sklearn-color-fitted-level-0);\n}\n\n/* on hover */\n#sk-container-id-1 div.sk-estimator:hover {\n  /* unfitted */\n  background-color: var(--sklearn-color-unfitted-level-2);\n}\n\n#sk-container-id-1 div.sk-estimator.fitted:hover {\n  /* fitted */\n  background-color: var(--sklearn-color-fitted-level-2);\n}\n\n/* Specification for estimator info (e.g. \"i\" and \"?\") */\n\n/* Common style for \"i\" and \"?\" */\n\n.sk-estimator-doc-link,\na:link.sk-estimator-doc-link,\na:visited.sk-estimator-doc-link {\n  float: right;\n  font-size: smaller;\n  line-height: 1em;\n  font-family: monospace;\n  background-color: var(--sklearn-color-background);\n  border-radius: 1em;\n  height: 1em;\n  width: 1em;\n  text-decoration: none !important;\n  margin-left: 1ex;\n  /* unfitted */\n  border: var(--sklearn-color-unfitted-level-1) 1pt solid;\n  color: var(--sklearn-color-unfitted-level-1);\n}\n\n.sk-estimator-doc-link.fitted,\na:link.sk-estimator-doc-link.fitted,\na:visited.sk-estimator-doc-link.fitted {\n  /* fitted */\n  border: var(--sklearn-color-fitted-level-1) 1pt solid;\n  color: var(--sklearn-color-fitted-level-1);\n}\n\n/* On hover */\ndiv.sk-estimator:hover .sk-estimator-doc-link:hover,\n.sk-estimator-doc-link:hover,\ndiv.sk-label-container:hover .sk-estimator-doc-link:hover,\n.sk-estimator-doc-link:hover {\n  /* unfitted */\n  background-color: var(--sklearn-color-unfitted-level-3);\n  color: var(--sklearn-color-background);\n  text-decoration: none;\n}\n\ndiv.sk-estimator.fitted:hover .sk-estimator-doc-link.fitted:hover,\n.sk-estimator-doc-link.fitted:hover,\ndiv.sk-label-container:hover .sk-estimator-doc-link.fitted:hover,\n.sk-estimator-doc-link.fitted:hover {\n  /* fitted */\n  background-color: var(--sklearn-color-fitted-level-3);\n  color: var(--sklearn-color-background);\n  text-decoration: none;\n}\n\n/* Span, style for the box shown on hovering the info icon */\n.sk-estimator-doc-link span {\n  display: none;\n  z-index: 9999;\n  position: relative;\n  font-weight: normal;\n  right: .2ex;\n  padding: .5ex;\n  margin: .5ex;\n  width: min-content;\n  min-width: 20ex;\n  max-width: 50ex;\n  color: var(--sklearn-color-text);\n  box-shadow: 2pt 2pt 4pt #999;\n  /* unfitted */\n  background: var(--sklearn-color-unfitted-level-0);\n  border: .5pt solid var(--sklearn-color-unfitted-level-3);\n}\n\n.sk-estimator-doc-link.fitted span {\n  /* fitted */\n  background: var(--sklearn-color-fitted-level-0);\n  border: var(--sklearn-color-fitted-level-3);\n}\n\n.sk-estimator-doc-link:hover span {\n  display: block;\n}\n\n/* \"?\"-specific style due to the `<a>` HTML tag */\n\n#sk-container-id-1 a.estimator_doc_link {\n  float: right;\n  font-size: 1rem;\n  line-height: 1em;\n  font-family: monospace;\n  background-color: var(--sklearn-color-background);\n  border-radius: 1rem;\n  height: 1rem;\n  width: 1rem;\n  text-decoration: none;\n  /* unfitted */\n  color: var(--sklearn-color-unfitted-level-1);\n  border: var(--sklearn-color-unfitted-level-1) 1pt solid;\n}\n\n#sk-container-id-1 a.estimator_doc_link.fitted {\n  /* fitted */\n  border: var(--sklearn-color-fitted-level-1) 1pt solid;\n  color: var(--sklearn-color-fitted-level-1);\n}\n\n/* On hover */\n#sk-container-id-1 a.estimator_doc_link:hover {\n  /* unfitted */\n  background-color: var(--sklearn-color-unfitted-level-3);\n  color: var(--sklearn-color-background);\n  text-decoration: none;\n}\n\n#sk-container-id-1 a.estimator_doc_link.fitted:hover {\n  /* fitted */\n  background-color: var(--sklearn-color-fitted-level-3);\n}\n</style><div id=\"sk-container-id-1\" class=\"sk-top-container\"><div class=\"sk-text-repr-fallback\"><pre>GaussianProcessRegressor(alpha=1e-05,\n                         kernel=RBF(length_scale=[1, 1, 1, 1, 1, 1, 1, 1]) + WhiteKernel(noise_level=1),\n                         normalize_y=True)</pre><b>In a Jupyter environment, please rerun this cell to show the HTML representation or trust the notebook. <br />On GitHub, the HTML representation is unable to render, please try loading this page with nbviewer.org.</b></div><div class=\"sk-container\" hidden><div class=\"sk-item\"><div class=\"sk-estimator fitted sk-toggleable\"><input class=\"sk-toggleable__control sk-hidden--visually\" id=\"sk-estimator-id-1\" type=\"checkbox\" checked><label for=\"sk-estimator-id-1\" class=\"sk-toggleable__label fitted sk-toggleable__label-arrow fitted\">&nbsp;&nbsp;GaussianProcessRegressor<a class=\"sk-estimator-doc-link fitted\" rel=\"noreferrer\" target=\"_blank\" href=\"https://scikit-learn.org/1.4/modules/generated/sklearn.gaussian_process.GaussianProcessRegressor.html\">?<span>Documentation for GaussianProcessRegressor</span></a><span class=\"sk-estimator-doc-link fitted\">i<span>Fitted</span></span></label><div class=\"sk-toggleable__content fitted\"><pre>GaussianProcessRegressor(alpha=1e-05,\n                         kernel=RBF(length_scale=[1, 1, 1, 1, 1, 1, 1, 1]) + WhiteKernel(noise_level=1),\n                         normalize_y=True)</pre></div> </div></div></div></div>"
     },
     "execution_count": 2,
     "metadata": {},
     "output_type": "execute_result"
    }
   ],
   "source": [
    "# Define Gaussian Process\n",
    "kernel = RBF(length_scale=np.ones(8)) + WhiteKernel(noise_level=1)\n",
    "gp = GaussianProcessRegressor(kernel=kernel, alpha=1e-5, normalize_y=True)\n",
    "gp.fit(X_train, Y_train.ravel())"
   ],
   "metadata": {
    "collapsed": false,
    "ExecuteTime": {
     "end_time": "2024-07-22T19:32:37.562517200Z",
     "start_time": "2024-07-22T19:32:37.379520500Z"
    }
   }
  },
  {
   "cell_type": "code",
   "execution_count": 3,
   "outputs": [],
   "source": [
    "def ucb(X, gp, kappa=1.96):  # kappa can be adjusted based on your confidence level needs\n",
    "    mean, std = gp.predict(X, return_std=True)\n",
    "    return mean + kappa * std\n"
   ],
   "metadata": {
    "collapsed": false,
    "ExecuteTime": {
     "end_time": "2024-07-22T19:32:37.592404600Z",
     "start_time": "2024-07-22T19:32:37.552493200Z"
    }
   }
  },
  {
   "cell_type": "code",
   "execution_count": 4,
   "outputs": [
    {
     "name": "stdout",
     "output_type": "stream",
     "text": [
      "Proposed new hyperparameters: [0.22659543 0.05682445 0.19433813 0.41342435 1.         0.95750054\n",
      " 0.25940035 0.59929966]\n",
      "[0.226595-0.056824-0.194338-0.413424-1.000000-0.957501-0.259400-0.599300]\n"
     ]
    }
   ],
   "source": [
    "def propose_point(gp, bounds=np.array([[0, 1]]*8), n_restarts=20):\n",
    "    best_x = None\n",
    "    best_ucb = float('-inf')\n",
    "\n",
    "    for starting_point in np.random.uniform(bounds[:, 0], bounds[:, 1], size=(n_restarts, 8)):\n",
    "        res = minimize(lambda x: -ucb(x.reshape(1, -1), gp), x0=starting_point, bounds=bounds, method='L-BFGS-B')\n",
    "        if -res.fun > best_ucb:\n",
    "            best_ucb = -res.fun\n",
    "            best_x = res.x\n",
    "            \n",
    "    return best_x\n",
    "\n",
    "new_point = propose_point(gp)\n",
    "print(\"Proposed new hyperparameters:\", new_point)\n",
    "\n",
    "print(np.array2string(new_point,precision=6,separator='-',floatmode='fixed',formatter={'float':'{:0.6f}'.format}))\n"
   ],
   "metadata": {
    "collapsed": false,
    "ExecuteTime": {
     "end_time": "2024-07-22T19:32:38.780486Z",
     "start_time": "2024-07-22T19:32:37.570865100Z"
    }
   }
  }
 ],
 "metadata": {
  "interpreter": {
   "hash": "d37abda7630e259e5026a5079657683a09f6e3d11473720762ebe7250c494840"
  },
  "kernelspec": {
   "display_name": "Python 3 (ipykernel)",
   "language": "python",
   "name": "python3"
  },
  "language_info": {
   "codemirror_mode": {
    "name": "ipython",
    "version": 3
   },
   "file_extension": ".py",
   "mimetype": "text/x-python",
   "name": "python",
   "nbconvert_exporter": "python",
   "pygments_lexer": "ipython3",
   "version": "3.8.5"
  }
 },
 "nbformat": 4,
 "nbformat_minor": 2
}
